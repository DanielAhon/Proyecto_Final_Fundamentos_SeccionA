{
  "nbformat": 4,
  "nbformat_minor": 0,
  "metadata": {
    "colab": {
      "provenance": []
    },
    "kernelspec": {
      "name": "python3",
      "display_name": "Python 3"
    },
    "language_info": {
      "name": "python"
    }
  },
  "cells": [
    {
      "cell_type": "code",
      "execution_count": 2,
      "metadata": {
        "colab": {
          "base_uri": "https://localhost:8080/"
        },
        "id": "Gldjy_KlhoH_",
        "outputId": "fc3c7a77-438c-4412-b95d-87b0fd25ae1b"
      },
      "outputs": [
        {
          "output_type": "stream",
          "name": "stdout",
          "text": [
            "Bienvenido al juego de adivinar el número!\n",
            "El número que tendrás que adivinar se encuentra entre 1 y 100. ¡Vamos tu puedes!\n",
            "¡Vamos tu puedes!\n",
            "\n",
            "Ingresa tu número (entre 1 y 100): 70\n",
            "El número es más alto. Intenta de nuevo.\n",
            "\n",
            "Ingresa tu número (entre 1 y 100): 99\n",
            "El número es más bajo. Intenta de nuevo.\n",
            "\n",
            "Ingresa tu número (entre 1 y 100): 80\n",
            "El número es más bajo. Intenta de nuevo.\n",
            "\n",
            "Ingresa tu número (entre 1 y 100): 76\n",
            "El número es más bajo. Intenta de nuevo.\n",
            "\n",
            "Ingresa tu número (entre 1 y 100): 75\n",
            "El número es más bajo. Intenta de nuevo.\n",
            "\n",
            "Ingresa tu número (entre 1 y 100): 73\n",
            "El número es más bajo. Intenta de nuevo.\n",
            "\n",
            "Ingresa tu número (entre 1 y 100): 71\n",
            "El número es más alto. Intenta de nuevo.\n",
            "\n",
            "Ingresa tu número (entre 1 y 100): 72\n",
            "\n",
            "¡Felicidades! :) ¡Has adivinado el número 72 en 8 intentos!\n"
          ]
        }
      ],
      "source": [
        "#Programa en el que el usuario intenta adivinar un número generado aleatoreamente por el ordenador\n",
        "\n",
        "import random # Importamos el módulo \"random\", que se utiliza para generar los números aleatorios.\n",
        "\n",
        "def juego_adivinar_numero():# Definimos la función de entrada y presentación en pantalla\n",
        "    print(\"Bienvenido al juego de adivinar el número!\")\n",
        "    print(\"El número que tendrás que adivinar se encuentra entre 1 y 100. ¡Vamos tu puedes!\")\n",
        "    print(\"¡Vamos tu puedes!\")\n",
        "\n",
        "    numero_secreto = random.randint(1, 100)# Inicializamos la semilla con un número que se encuentra entre 1 y 100\n",
        "    intentos_realizados = 0# Colocamos un contador para ver en cuantos intentos logras adivinar el número\n",
        "\n",
        "    while True:\n",
        "        intento = int(input(\"\\nIngresa tu número (entre 1 y 100): \"))\n",
        "        intentos_realizados += 1# Va incrementandose tras cada intento fallido\n",
        "\n",
        "        if intento < numero_secreto:# Estas pistas nos ayudarán a dar con el número según sea el caso\n",
        "            print(\"El número es más alto. Intenta de nuevo.\")\n",
        "        elif intento > numero_secreto:\n",
        "            print(\"El número es más bajo. Intenta de nuevo.\")\n",
        "        else:\n",
        "            print(f\"\\n¡Felicidades! :) ¡Has adivinado el número {numero_secreto} en {intentos_realizados} intentos!\")# Una vez adividado el número\n",
        "            break# Se cierra\n",
        "\n",
        "def main():# Función principal para iniciar el juego de adivinar el número\n",
        "    juego_adivinar_numero()\n",
        "\n",
        "if __name__ == \"__main__\":\n",
        "    main()"
      ]
    }
  ]
}